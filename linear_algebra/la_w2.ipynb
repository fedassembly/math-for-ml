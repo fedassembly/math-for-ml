{
 "cells": [
  {
   "cell_type": "markdown",
   "metadata": {},
   "source": [
    "# Linear Algebra - Week 2"
   ]
  },
  {
   "cell_type": "markdown",
   "metadata": {},
   "source": [
    "<div style=\"display:none;\">Dive into the fundamentals of linear algebra for machine learning and data science. This week you'll learn to solve equations using the elimination and substitution methods.</div>"
   ]
  },
  {
   "cell_type": "code",
   "execution_count": 1,
   "metadata": {
    "execution": {
     "iopub.execute_input": "2023-11-15T11:21:45.424216Z",
     "iopub.status.busy": "2023-11-15T11:21:45.424052Z",
     "iopub.status.idle": "2023-11-15T11:21:45.488185Z",
     "shell.execute_reply": "2023-11-15T11:21:45.487665Z"
    }
   },
   "outputs": [],
   "source": [
    "import numpy as np"
   ]
  },
  {
   "cell_type": "markdown",
   "metadata": {},
   "source": [
    "## Solving a system of equations"
   ]
  },
  {
   "cell_type": "markdown",
   "metadata": {},
   "source": [
    "We can solve this system by elimination or substitution.\n",
    "\n",
    "$\\begin{cases}\n",
    "5a + b = 17 \\\\\n",
    "4a - 3b = 6\n",
    "\\end{cases}$"
   ]
  },
  {
   "cell_type": "markdown",
   "metadata": {},
   "source": [
    "### Elimination method"
   ]
  },
  {
   "cell_type": "markdown",
   "metadata": {},
   "source": [
    "1. \n",
    "$\\begin{cases}\n",
    "a + 0.2b = 3.4 \\\\\n",
    "a - 0.75b = 1.5\n",
    "\\end{cases}$\n",
    "\n",
    "2. \n",
    "$\\begin{cases}\n",
    "a + 0.2b = 3.4 \\\\\n",
    "a - 0.75b = 1.5\n",
    "\\end{cases}$\n",
    "\n",
    "Eliminate $a$\n",
    "\n",
    "3. \n",
    "$\\begin{cases}\n",
    "a + 0.2b = 3.4 \\\\\n",
    "0 - 0.95b = -1.9\n",
    "\\end{cases}$\n",
    "\n",
    "4. \n",
    "$\\begin{cases}\n",
    "a + 0.2b = 3.4 \\\\\n",
    "b = 2.\n",
    "\\end{cases}$\n",
    "\n",
    "5. \n",
    "$\\begin{cases}\n",
    "a = 3. \\\\\n",
    "b = 2.\n",
    "\\end{cases}$"
   ]
  },
  {
   "cell_type": "markdown",
   "metadata": {},
   "source": [
    "### Substitution method"
   ]
  },
  {
   "cell_type": "markdown",
   "metadata": {},
   "source": [
    "1. \n",
    "$\\begin{cases}\n",
    "a + 0.2b = 3.4 \\\\\n",
    "a - 0.75b = 1.5\n",
    "\\end{cases}$\n",
    "\n",
    "2. \n",
    "$\\begin{cases}\n",
    "a = 3.4 - 0.2b \\\\\n",
    "a = 1.5 + 0.75b\n",
    "\\end{cases}$\n",
    "\n",
    "Substitute $a$\n",
    "\n",
    "3. \n",
    "$\\begin{cases}\n",
    "a = 3.4 - 0.2b \\\\\n",
    "3.4 - 0.2b - 1.5 - 0.75b = 0\n",
    "\\end{cases}$\n",
    "\n",
    "4. \n",
    "$\\begin{cases}\n",
    "a = 3.4 - 0.2b \\\\\n",
    "1.9 - 0.95b = 0\n",
    "\\end{cases}$\n",
    "\n",
    "5. \n",
    "$\\begin{cases}\n",
    "a = 3.4 - 0.2b \\\\\n",
    "b = 2.\n",
    "\\end{cases}$\n",
    "\n",
    "6. \n",
    "$\\begin{cases}\n",
    "a = 3. \\\\\n",
    "b = 2.\n",
    "\\end{cases}$"
   ]
  },
  {
   "cell_type": "markdown",
   "metadata": {},
   "source": [
    "Let's check the solution."
   ]
  },
  {
   "cell_type": "code",
   "execution_count": 2,
   "metadata": {
    "execution": {
     "iopub.execute_input": "2023-11-15T11:21:45.492136Z",
     "iopub.status.busy": "2023-11-15T11:21:45.491179Z",
     "iopub.status.idle": "2023-11-15T11:21:45.496593Z",
     "shell.execute_reply": "2023-11-15T11:21:45.496101Z"
    }
   },
   "outputs": [],
   "source": [
    "a = 3.0\n",
    "b = 2.0\n",
    "\n",
    "assert 5.0 * a + b == 17.0\n",
    "assert 4.0 * a - 3.0 * b == 6.0\n",
    "assert np.allclose(\n",
    "    np.linalg.solve(np.array([[5.0, 1.0], [4.0, -3.0]]), np.array([17.0, 6.0])),\n",
    "    np.array([a, b]),\n",
    ")"
   ]
  },
  {
   "cell_type": "markdown",
   "metadata": {},
   "source": [
    "Let's build an elimination algorithm using this system as an example.\n",
    "\n",
    "$\\begin{cases}\n",
    "a + b + 2c = 12 \\\\\n",
    "3a - 3b - c = 2 \\\\\n",
    "2a - b + 6c = 24\n",
    "\\end{cases}$"
   ]
  },
  {
   "cell_type": "code",
   "execution_count": 3,
   "metadata": {
    "execution": {
     "iopub.execute_input": "2023-11-15T11:21:45.500066Z",
     "iopub.status.busy": "2023-11-15T11:21:45.499169Z",
     "iopub.status.idle": "2023-11-15T11:21:45.513040Z",
     "shell.execute_reply": "2023-11-15T11:21:45.512552Z"
    }
   },
   "outputs": [
    {
     "data": {
      "text/plain": [
       "array([3.757576 , 2.0606058, 3.0909092], dtype=float32)"
      ]
     },
     "execution_count": 3,
     "metadata": {},
     "output_type": "execute_result"
    }
   ],
   "source": [
    "a = np.array([[1, 1, 2], [3, -3, -1], [2, -1, 6]], dtype=\"float32\")\n",
    "b = np.array([12, 2, 24], dtype=\"float32\")\n",
    "\n",
    "\n",
    "def solve_by_elimination(a: np.array, b: np.array) -> np.array:\n",
    "    c = np.hstack((a, b.reshape(-1, 1)))\n",
    "    for i in range(c.shape[0] - 1):\n",
    "        # normalize row i\n",
    "        c[i:, :] /= c[i:, i].reshape(-1, 1)\n",
    "        # remove row i from row i+1, i+2, etc...\n",
    "        c = np.vstack((c[: i + 1, :], c[i + 1 :,] - c[i, :]))\n",
    "    for i in range(c.shape[0] - 1, -1, -1):\n",
    "        # bring solved (if any) to RHS\n",
    "        c[i, -1] -= np.sum(c[i, (i + 1) : -1])\n",
    "        c[i, (i + 1) : -1] = 0\n",
    "        # divide whole row by coefficient of variable\n",
    "        c[i, :] /= c[i, i]\n",
    "        # replace solution across the system\n",
    "        c[:i, i] *= c[i, -1]\n",
    "    return c[:, -1]\n",
    "\n",
    "\n",
    "solve_by_elimination(a, b)"
   ]
  },
  {
   "cell_type": "markdown",
   "metadata": {},
   "source": [
    "Let's check the solution."
   ]
  },
  {
   "cell_type": "code",
   "execution_count": 4,
   "metadata": {
    "execution": {
     "iopub.execute_input": "2023-11-15T11:21:45.516523Z",
     "iopub.status.busy": "2023-11-15T11:21:45.515593Z",
     "iopub.status.idle": "2023-11-15T11:21:45.519963Z",
     "shell.execute_reply": "2023-11-15T11:21:45.519473Z"
    }
   },
   "outputs": [],
   "source": [
    "assert np.allclose(solve_by_elimination(a, b), np.linalg.solve(a, b))"
   ]
  },
  {
   "cell_type": "markdown",
   "metadata": {},
   "source": [
    "Let's try it with another one."
   ]
  },
  {
   "cell_type": "code",
   "execution_count": 5,
   "metadata": {
    "execution": {
     "iopub.execute_input": "2023-11-15T11:21:45.523411Z",
     "iopub.status.busy": "2023-11-15T11:21:45.522502Z",
     "iopub.status.idle": "2023-11-15T11:21:45.527872Z",
     "shell.execute_reply": "2023-11-15T11:21:45.527383Z"
    }
   },
   "outputs": [],
   "source": [
    "a = np.array(\n",
    "    [[2, -1, 1, 1], [1, 2, -1, -1], [-1, 2, 2, 2], [1, -1, 2, 1]], dtype=\"float32\"\n",
    ")\n",
    "b = np.array([6, 3, 14, 8], dtype=\"float32\")\n",
    "assert np.allclose(solve_by_elimination(a, b), np.linalg.solve(a, b))"
   ]
  }
 ],
 "metadata": {
  "kernelspec": {
   "display_name": ".venv",
   "language": "python",
   "name": "python3"
  },
  "language_info": {
   "codemirror_mode": {
    "name": "ipython",
    "version": 3
   },
   "file_extension": ".py",
   "mimetype": "text/x-python",
   "name": "python",
   "nbconvert_exporter": "python",
   "pygments_lexer": "ipython3",
   "version": "3.11.6"
  }
 },
 "nbformat": 4,
 "nbformat_minor": 2
}
